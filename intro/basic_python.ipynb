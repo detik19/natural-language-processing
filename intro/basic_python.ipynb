{
 "cells": [
  {
   "cell_type": "markdown",
   "metadata": {},
   "source": [
    "# Introduction\n",
    "## Python zip() Function"
   ]
  },
  {
   "cell_type": "code",
   "execution_count": 4,
   "metadata": {},
   "outputs": [
    {
     "name": "stdout",
     "output_type": "stream",
     "text": [
      "(('Spiderman', 'Superman'), ('Captain America', 'Batman'), ('Ant', 'Kazam'))\n"
     ]
    }
   ],
   "source": [
    "a =(\"Spiderman\",\"Captain America\",\"Ant\")\n",
    "b =(\"Superman\",'Batman', 'Kazam')\n",
    "\n",
    "x = zip(a,b)\n",
    "print(tuple(x))\n"
   ]
  }
 ],
 "metadata": {
  "kernelspec": {
   "display_name": "Python 3.9.13 ('academy')",
   "language": "python",
   "name": "python3"
  },
  "language_info": {
   "codemirror_mode": {
    "name": "ipython",
    "version": 3
   },
   "file_extension": ".py",
   "mimetype": "text/x-python",
   "name": "python",
   "nbconvert_exporter": "python",
   "pygments_lexer": "ipython3",
   "version": "3.9.13"
  },
  "orig_nbformat": 4,
  "vscode": {
   "interpreter": {
    "hash": "e8671fb701186b1292a69bea7516b71b9d19b78bd28f15b18c90589309bdce08"
   }
  }
 },
 "nbformat": 4,
 "nbformat_minor": 2
}
